{
 "cells": [
  {
   "cell_type": "markdown",
   "metadata": {},
   "source": [
    "# FORMULA IN GETTING THE SUM OF THE SQUARES \n",
    "\n",
    "n(n+1) (2n+1) / 6\n"
   ]
  },
  {
   "cell_type": "code",
   "execution_count": 1,
   "metadata": {},
   "outputs": [
    {
     "name": "stdout",
     "output_type": "stream",
     "text": [
      "385.0\n"
     ]
    }
   ],
   "source": [
    "x = 10\n",
    "x1= x*(x+1)*((2*x)+1)\n",
    "x2= x1/6\n",
    "print(x2)\n"
   ]
  },
  {
   "cell_type": "code",
   "execution_count": 4,
   "metadata": {},
   "outputs": [
    {
     "name": "stdout",
     "output_type": "stream",
     "text": [
      "5050\n"
     ]
    }
   ],
   "source": [
    "n=100\n",
    "Sn =  (n/2)*(1+n)\n",
    "print(int(Sn))"
   ]
  },
  {
   "cell_type": "code",
   "execution_count": 18,
   "metadata": {},
   "outputs": [
    {
     "name": "stdout",
     "output_type": "stream",
     "text": [
      "333833500.0\n",
      "250500250000.0\n",
      "ANSWER:  250166416500.0\n"
     ]
    }
   ],
   "source": [
    "number = 1000\n",
    "x = number\n",
    "x1= x*(x+1)*((2*x)+1)\n",
    "x2= x1/6\n",
    "\n",
    "n=number\n",
    "Sn =  (n/2)*(1+n)\n",
    "print(x2)\n",
    "print(Sn**2)\n",
    "print(\"ANSWER: \",(Sn**2)-x2)"
   ]
  },
  {
   "cell_type": "code",
   "execution_count": null,
   "metadata": {},
   "outputs": [],
   "source": []
  },
  {
   "cell_type": "code",
   "execution_count": null,
   "metadata": {},
   "outputs": [],
   "source": []
  }
 ],
 "metadata": {
  "kernelspec": {
   "display_name": "Python 3",
   "language": "python",
   "name": "python3"
  },
  "language_info": {
   "codemirror_mode": {
    "name": "ipython",
    "version": 3
   },
   "file_extension": ".py",
   "mimetype": "text/x-python",
   "name": "python",
   "nbconvert_exporter": "python",
   "pygments_lexer": "ipython3",
   "version": "3.8.2"
  }
 },
 "nbformat": 4,
 "nbformat_minor": 4
}
